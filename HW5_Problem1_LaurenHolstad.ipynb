{
  "nbformat": 4,
  "nbformat_minor": 0,
  "metadata": {
    "colab": {
      "name": "HW5 Problem1_LaurenHolstad.ipynb",
      "provenance": []
    },
    "kernelspec": {
      "name": "python3",
      "display_name": "Python 3"
    }
  },
  "cells": [
    {
      "cell_type": "code",
      "metadata": {
        "id": "k54RfyaXB_My",
        "outputId": "947449ab-5d38-4eba-8d15-c8a009c050e6",
        "colab": {
          "base_uri": "https://localhost:8080/"
        }
      },
      "source": [
        "import pandas as pd\n",
        "import numpy as np\n",
        "\n",
        "from sklearn.cluster import KMeans\n",
        "from sklearn.metrics import silhouette_score\n",
        "from sklearn.model_selection import train_test_split\n",
        "from sklearn.preprocessing import OneHotEncoder \n",
        "\n",
        "import warnings\n",
        "warnings.filterwarnings(\"ignore\")\n",
        "\n",
        "from google.colab import drive\n",
        "drive.mount('/gdrive')\n",
        "#Change current working directory to gdrive\n",
        "%cd /gdrive"
      ],
      "execution_count": null,
      "outputs": [
        {
          "output_type": "stream",
          "text": [
            "Mounted at /gdrive\n",
            "/gdrive\n"
          ],
          "name": "stdout"
        }
      ]
    },
    {
      "cell_type": "markdown",
      "metadata": {
        "id": "Sycj0KaCGEhh"
      },
      "source": [
        "# **Import File**"
      ]
    },
    {
      "cell_type": "code",
      "metadata": {
        "id": "RpU1dmxicoKN"
      },
      "source": [
        "datafile = r'/gdrive/My Drive/Data Mining/Assignment 5/shopper_intention.csv'\n",
        "data = pd.read_csv(datafile)"
      ],
      "execution_count": null,
      "outputs": []
    },
    {
      "cell_type": "code",
      "metadata": {
        "id": "AC7zhfuie4DI",
        "outputId": "e6326361-4422-4e15-da76-d36f64c55456",
        "colab": {
          "base_uri": "https://localhost:8080/",
          "height": 224
        }
      },
      "source": [
        "data.head()"
      ],
      "execution_count": null,
      "outputs": [
        {
          "output_type": "execute_result",
          "data": {
            "text/html": [
              "<div>\n",
              "<style scoped>\n",
              "    .dataframe tbody tr th:only-of-type {\n",
              "        vertical-align: middle;\n",
              "    }\n",
              "\n",
              "    .dataframe tbody tr th {\n",
              "        vertical-align: top;\n",
              "    }\n",
              "\n",
              "    .dataframe thead th {\n",
              "        text-align: right;\n",
              "    }\n",
              "</style>\n",
              "<table border=\"1\" class=\"dataframe\">\n",
              "  <thead>\n",
              "    <tr style=\"text-align: right;\">\n",
              "      <th></th>\n",
              "      <th>Administrative</th>\n",
              "      <th>Administrative_Duration</th>\n",
              "      <th>Informational</th>\n",
              "      <th>Informational_Duration</th>\n",
              "      <th>ProductRelated</th>\n",
              "      <th>ProductRelated_Duration</th>\n",
              "      <th>BounceRates</th>\n",
              "      <th>ExitRates</th>\n",
              "      <th>PageValues</th>\n",
              "      <th>SpecialDay</th>\n",
              "      <th>Month</th>\n",
              "      <th>OperatingSystems</th>\n",
              "      <th>Browser</th>\n",
              "      <th>Region</th>\n",
              "      <th>TrafficType</th>\n",
              "      <th>VisitorType</th>\n",
              "      <th>Weekend</th>\n",
              "      <th>Revenue</th>\n",
              "    </tr>\n",
              "  </thead>\n",
              "  <tbody>\n",
              "    <tr>\n",
              "      <th>0</th>\n",
              "      <td>0</td>\n",
              "      <td>0.0</td>\n",
              "      <td>0</td>\n",
              "      <td>0.0</td>\n",
              "      <td>1</td>\n",
              "      <td>0.000000</td>\n",
              "      <td>0.20</td>\n",
              "      <td>0.20</td>\n",
              "      <td>0.0</td>\n",
              "      <td>0.0</td>\n",
              "      <td>Feb</td>\n",
              "      <td>1</td>\n",
              "      <td>1</td>\n",
              "      <td>1</td>\n",
              "      <td>1</td>\n",
              "      <td>Returning_Visitor</td>\n",
              "      <td>False</td>\n",
              "      <td>False</td>\n",
              "    </tr>\n",
              "    <tr>\n",
              "      <th>1</th>\n",
              "      <td>0</td>\n",
              "      <td>0.0</td>\n",
              "      <td>0</td>\n",
              "      <td>0.0</td>\n",
              "      <td>2</td>\n",
              "      <td>64.000000</td>\n",
              "      <td>0.00</td>\n",
              "      <td>0.10</td>\n",
              "      <td>0.0</td>\n",
              "      <td>0.0</td>\n",
              "      <td>Feb</td>\n",
              "      <td>2</td>\n",
              "      <td>2</td>\n",
              "      <td>1</td>\n",
              "      <td>2</td>\n",
              "      <td>Returning_Visitor</td>\n",
              "      <td>False</td>\n",
              "      <td>False</td>\n",
              "    </tr>\n",
              "    <tr>\n",
              "      <th>2</th>\n",
              "      <td>0</td>\n",
              "      <td>0.0</td>\n",
              "      <td>0</td>\n",
              "      <td>0.0</td>\n",
              "      <td>1</td>\n",
              "      <td>0.000000</td>\n",
              "      <td>0.20</td>\n",
              "      <td>0.20</td>\n",
              "      <td>0.0</td>\n",
              "      <td>0.0</td>\n",
              "      <td>Feb</td>\n",
              "      <td>4</td>\n",
              "      <td>1</td>\n",
              "      <td>9</td>\n",
              "      <td>3</td>\n",
              "      <td>Returning_Visitor</td>\n",
              "      <td>False</td>\n",
              "      <td>False</td>\n",
              "    </tr>\n",
              "    <tr>\n",
              "      <th>3</th>\n",
              "      <td>0</td>\n",
              "      <td>0.0</td>\n",
              "      <td>0</td>\n",
              "      <td>0.0</td>\n",
              "      <td>2</td>\n",
              "      <td>2.666667</td>\n",
              "      <td>0.05</td>\n",
              "      <td>0.14</td>\n",
              "      <td>0.0</td>\n",
              "      <td>0.0</td>\n",
              "      <td>Feb</td>\n",
              "      <td>3</td>\n",
              "      <td>2</td>\n",
              "      <td>2</td>\n",
              "      <td>4</td>\n",
              "      <td>Returning_Visitor</td>\n",
              "      <td>False</td>\n",
              "      <td>False</td>\n",
              "    </tr>\n",
              "    <tr>\n",
              "      <th>4</th>\n",
              "      <td>0</td>\n",
              "      <td>0.0</td>\n",
              "      <td>0</td>\n",
              "      <td>0.0</td>\n",
              "      <td>10</td>\n",
              "      <td>627.500000</td>\n",
              "      <td>0.02</td>\n",
              "      <td>0.05</td>\n",
              "      <td>0.0</td>\n",
              "      <td>0.0</td>\n",
              "      <td>Feb</td>\n",
              "      <td>3</td>\n",
              "      <td>3</td>\n",
              "      <td>1</td>\n",
              "      <td>4</td>\n",
              "      <td>Returning_Visitor</td>\n",
              "      <td>True</td>\n",
              "      <td>False</td>\n",
              "    </tr>\n",
              "  </tbody>\n",
              "</table>\n",
              "</div>"
            ],
            "text/plain": [
              "   Administrative  Administrative_Duration  ...  Weekend  Revenue\n",
              "0               0                      0.0  ...    False    False\n",
              "1               0                      0.0  ...    False    False\n",
              "2               0                      0.0  ...    False    False\n",
              "3               0                      0.0  ...    False    False\n",
              "4               0                      0.0  ...     True    False\n",
              "\n",
              "[5 rows x 18 columns]"
            ]
          },
          "metadata": {
            "tags": []
          },
          "execution_count": 3
        }
      ]
    },
    {
      "cell_type": "markdown",
      "metadata": {
        "id": "ovbKFePHGGIe"
      },
      "source": [
        "# **Split Data into Train and Test Files**"
      ]
    },
    {
      "cell_type": "code",
      "metadata": {
        "id": "q9Cv1oijEO4x"
      },
      "source": [
        "y = data[['Revenue']]\n",
        "x = data.drop('Revenue', axis=1)"
      ],
      "execution_count": null,
      "outputs": []
    },
    {
      "cell_type": "code",
      "metadata": {
        "id": "8rHO4ZmEFL_n"
      },
      "source": [
        " x_train,x_test,y_train,y_test = train_test_split(\n",
        "     x,\n",
        "     y,\n",
        "     test_size=0.2, \n",
        "     random_state=42)"
      ],
      "execution_count": null,
      "outputs": []
    },
    {
      "cell_type": "code",
      "metadata": {
        "id": "IH7bw7KlFhKb",
        "outputId": "1a5d541d-5644-4631-d3a9-0342a4e5cf43",
        "colab": {
          "base_uri": "https://localhost:8080/"
        }
      },
      "source": [
        "x_train.head\n",
        "#x_train.shape"
      ],
      "execution_count": null,
      "outputs": [
        {
          "output_type": "execute_result",
          "data": {
            "text/plain": [
              "<bound method NDFrame.head of        Administrative  Administrative_Duration  ...        VisitorType  Weekend\n",
              "1785                0                 0.000000  ...  Returning_Visitor    False\n",
              "10407               2                14.000000  ...  Returning_Visitor    False\n",
              "286                 0                 0.000000  ...  Returning_Visitor    False\n",
              "6520                5                49.200000  ...        New_Visitor    False\n",
              "12251               0                 0.000000  ...        New_Visitor     True\n",
              "...               ...                      ...  ...                ...      ...\n",
              "11964              14              1005.608333  ...  Returning_Visitor    False\n",
              "5191                0                 0.000000  ...  Returning_Visitor     True\n",
              "5390                0                 0.000000  ...  Returning_Visitor    False\n",
              "860                 0                 0.000000  ...        New_Visitor    False\n",
              "7270                7               138.150000  ...  Returning_Visitor     True\n",
              "\n",
              "[9864 rows x 17 columns]>"
            ]
          },
          "metadata": {
            "tags": []
          },
          "execution_count": 6
        }
      ]
    },
    {
      "cell_type": "code",
      "metadata": {
        "id": "8MeweHNDFu2B",
        "outputId": "ac83481b-990e-409f-f482-91d9e3d7979e",
        "colab": {
          "base_uri": "https://localhost:8080/"
        }
      },
      "source": [
        "x_test.head\n",
        "#x_test.shape"
      ],
      "execution_count": null,
      "outputs": [
        {
          "output_type": "execute_result",
          "data": {
            "text/plain": [
              "<bound method NDFrame.head of        Administrative  Administrative_Duration  ...        VisitorType  Weekend\n",
              "8916                3               142.500000  ...  Returning_Visitor    False\n",
              "772                 6               437.391304  ...  Returning_Visitor    False\n",
              "12250               1                41.125000  ...  Returning_Visitor    False\n",
              "7793                2               141.000000  ...  Returning_Visitor    False\n",
              "6601               18               608.140000  ...  Returning_Visitor     True\n",
              "...               ...                      ...  ...                ...      ...\n",
              "295                 0                 0.000000  ...  Returning_Visitor    False\n",
              "3694                0                 0.000000  ...  Returning_Visitor     True\n",
              "4974                0                 0.000000  ...  Returning_Visitor    False\n",
              "10383               3                53.000000  ...  Returning_Visitor    False\n",
              "2611                0                 0.000000  ...  Returning_Visitor    False\n",
              "\n",
              "[2466 rows x 17 columns]>"
            ]
          },
          "metadata": {
            "tags": []
          },
          "execution_count": 7
        }
      ]
    },
    {
      "cell_type": "markdown",
      "metadata": {
        "id": "VAujBRpmKJWS"
      },
      "source": [
        "# **One Hot Encode**"
      ]
    },
    {
      "cell_type": "code",
      "metadata": {
        "id": "ehWGBlY5IjB5",
        "outputId": "f7bd9754-9f24-48f9-a216-d2413ca544b2",
        "colab": {
          "base_uri": "https://localhost:8080/"
        }
      },
      "source": [
        "dataCols = list(data.columns.values)\n",
        "print(dataCols)"
      ],
      "execution_count": null,
      "outputs": [
        {
          "output_type": "stream",
          "text": [
            "['Administrative', 'Administrative_Duration', 'Informational', 'Informational_Duration', 'ProductRelated', 'ProductRelated_Duration', 'BounceRates', 'ExitRates', 'PageValues', 'SpecialDay', 'Month', 'OperatingSystems', 'Browser', 'Region', 'TrafficType', 'VisitorType', 'Weekend', 'Revenue']\n"
          ],
          "name": "stdout"
        }
      ]
    },
    {
      "cell_type": "code",
      "metadata": {
        "id": "ToB2voDtJV9u"
      },
      "source": [
        "#categoricalFeatures = ['Administrative', 'Administrative_Duration', 'Informational', 'Informational_Duration', 'ProductRelated', 'ProductRelated_Duration', 'BounceRates', 'ExitRates', 'PageValues', 'SpecialDay', 'Month',  'OperatingSystems', 'Browser', 'Region', 'TrafficType', 'VisitorType', 'Weekend']\n",
        "\n",
        "categoricalFeatures = ['Month', 'VisitorType', 'Weekend']"
      ],
      "execution_count": null,
      "outputs": []
    },
    {
      "cell_type": "code",
      "metadata": {
        "id": "FRMoWar9KNOn",
        "outputId": "180d47fc-970a-43b1-b56d-e5ce4554ad10",
        "colab": {
          "base_uri": "https://localhost:8080/",
          "height": 224
        }
      },
      "source": [
        "# OneHotEncoding on Train (fit & transform)\n",
        "# OneHotEncoding is to be done on Categorical variables.\n",
        "ohe = OneHotEncoder(handle_unknown='ignore',sparse=False)\n",
        "x_cat = pd.DataFrame(ohe.fit_transform(x_train[categoricalFeatures]),columns=ohe.get_feature_names(),index=x_train.index)\n",
        "x_train = pd.concat([x_train,x_cat],axis=1)\n",
        "x_train.drop(labels=categoricalFeatures,axis=1,inplace=True)\n",
        "x_train.sample(5)"
      ],
      "execution_count": null,
      "outputs": [
        {
          "output_type": "execute_result",
          "data": {
            "text/html": [
              "<div>\n",
              "<style scoped>\n",
              "    .dataframe tbody tr th:only-of-type {\n",
              "        vertical-align: middle;\n",
              "    }\n",
              "\n",
              "    .dataframe tbody tr th {\n",
              "        vertical-align: top;\n",
              "    }\n",
              "\n",
              "    .dataframe thead th {\n",
              "        text-align: right;\n",
              "    }\n",
              "</style>\n",
              "<table border=\"1\" class=\"dataframe\">\n",
              "  <thead>\n",
              "    <tr style=\"text-align: right;\">\n",
              "      <th></th>\n",
              "      <th>Administrative</th>\n",
              "      <th>Administrative_Duration</th>\n",
              "      <th>Informational</th>\n",
              "      <th>Informational_Duration</th>\n",
              "      <th>ProductRelated</th>\n",
              "      <th>ProductRelated_Duration</th>\n",
              "      <th>BounceRates</th>\n",
              "      <th>ExitRates</th>\n",
              "      <th>PageValues</th>\n",
              "      <th>SpecialDay</th>\n",
              "      <th>OperatingSystems</th>\n",
              "      <th>Browser</th>\n",
              "      <th>Region</th>\n",
              "      <th>TrafficType</th>\n",
              "      <th>x0_Aug</th>\n",
              "      <th>x0_Dec</th>\n",
              "      <th>x0_Feb</th>\n",
              "      <th>x0_Jul</th>\n",
              "      <th>x0_June</th>\n",
              "      <th>x0_Mar</th>\n",
              "      <th>x0_May</th>\n",
              "      <th>x0_Nov</th>\n",
              "      <th>x0_Oct</th>\n",
              "      <th>x0_Sep</th>\n",
              "      <th>x1_New_Visitor</th>\n",
              "      <th>x1_Other</th>\n",
              "      <th>x1_Returning_Visitor</th>\n",
              "      <th>x2_False</th>\n",
              "      <th>x2_True</th>\n",
              "    </tr>\n",
              "  </thead>\n",
              "  <tbody>\n",
              "    <tr>\n",
              "      <th>4294</th>\n",
              "      <td>0</td>\n",
              "      <td>0.0</td>\n",
              "      <td>0</td>\n",
              "      <td>0.0</td>\n",
              "      <td>18</td>\n",
              "      <td>760.000000</td>\n",
              "      <td>0.084211</td>\n",
              "      <td>0.115789</td>\n",
              "      <td>0.000000</td>\n",
              "      <td>0.8</td>\n",
              "      <td>2</td>\n",
              "      <td>2</td>\n",
              "      <td>2</td>\n",
              "      <td>13</td>\n",
              "      <td>0.0</td>\n",
              "      <td>0.0</td>\n",
              "      <td>0.0</td>\n",
              "      <td>0.0</td>\n",
              "      <td>0.0</td>\n",
              "      <td>0.0</td>\n",
              "      <td>1.0</td>\n",
              "      <td>0.0</td>\n",
              "      <td>0.0</td>\n",
              "      <td>0.0</td>\n",
              "      <td>0.0</td>\n",
              "      <td>0.0</td>\n",
              "      <td>1.0</td>\n",
              "      <td>1.0</td>\n",
              "      <td>0.0</td>\n",
              "    </tr>\n",
              "    <tr>\n",
              "      <th>11664</th>\n",
              "      <td>1</td>\n",
              "      <td>0.0</td>\n",
              "      <td>3</td>\n",
              "      <td>82.0</td>\n",
              "      <td>120</td>\n",
              "      <td>2895.129762</td>\n",
              "      <td>0.001626</td>\n",
              "      <td>0.005813</td>\n",
              "      <td>16.963171</td>\n",
              "      <td>0.0</td>\n",
              "      <td>1</td>\n",
              "      <td>2</td>\n",
              "      <td>1</td>\n",
              "      <td>11</td>\n",
              "      <td>0.0</td>\n",
              "      <td>0.0</td>\n",
              "      <td>0.0</td>\n",
              "      <td>0.0</td>\n",
              "      <td>0.0</td>\n",
              "      <td>0.0</td>\n",
              "      <td>0.0</td>\n",
              "      <td>1.0</td>\n",
              "      <td>0.0</td>\n",
              "      <td>0.0</td>\n",
              "      <td>0.0</td>\n",
              "      <td>0.0</td>\n",
              "      <td>1.0</td>\n",
              "      <td>1.0</td>\n",
              "      <td>0.0</td>\n",
              "    </tr>\n",
              "    <tr>\n",
              "      <th>2872</th>\n",
              "      <td>0</td>\n",
              "      <td>0.0</td>\n",
              "      <td>0</td>\n",
              "      <td>0.0</td>\n",
              "      <td>4</td>\n",
              "      <td>25.000000</td>\n",
              "      <td>0.050000</td>\n",
              "      <td>0.100000</td>\n",
              "      <td>0.000000</td>\n",
              "      <td>0.0</td>\n",
              "      <td>3</td>\n",
              "      <td>2</td>\n",
              "      <td>3</td>\n",
              "      <td>3</td>\n",
              "      <td>0.0</td>\n",
              "      <td>0.0</td>\n",
              "      <td>0.0</td>\n",
              "      <td>0.0</td>\n",
              "      <td>0.0</td>\n",
              "      <td>0.0</td>\n",
              "      <td>1.0</td>\n",
              "      <td>0.0</td>\n",
              "      <td>0.0</td>\n",
              "      <td>0.0</td>\n",
              "      <td>0.0</td>\n",
              "      <td>0.0</td>\n",
              "      <td>1.0</td>\n",
              "      <td>1.0</td>\n",
              "      <td>0.0</td>\n",
              "    </tr>\n",
              "    <tr>\n",
              "      <th>7192</th>\n",
              "      <td>7</td>\n",
              "      <td>204.1</td>\n",
              "      <td>0</td>\n",
              "      <td>0.0</td>\n",
              "      <td>5</td>\n",
              "      <td>128.700000</td>\n",
              "      <td>0.000000</td>\n",
              "      <td>0.012500</td>\n",
              "      <td>0.000000</td>\n",
              "      <td>0.0</td>\n",
              "      <td>2</td>\n",
              "      <td>7</td>\n",
              "      <td>1</td>\n",
              "      <td>2</td>\n",
              "      <td>0.0</td>\n",
              "      <td>0.0</td>\n",
              "      <td>0.0</td>\n",
              "      <td>0.0</td>\n",
              "      <td>0.0</td>\n",
              "      <td>0.0</td>\n",
              "      <td>0.0</td>\n",
              "      <td>0.0</td>\n",
              "      <td>0.0</td>\n",
              "      <td>1.0</td>\n",
              "      <td>1.0</td>\n",
              "      <td>0.0</td>\n",
              "      <td>0.0</td>\n",
              "      <td>1.0</td>\n",
              "      <td>0.0</td>\n",
              "    </tr>\n",
              "    <tr>\n",
              "      <th>640</th>\n",
              "      <td>3</td>\n",
              "      <td>86.0</td>\n",
              "      <td>0</td>\n",
              "      <td>0.0</td>\n",
              "      <td>22</td>\n",
              "      <td>1187.833333</td>\n",
              "      <td>0.009091</td>\n",
              "      <td>0.027273</td>\n",
              "      <td>0.000000</td>\n",
              "      <td>0.0</td>\n",
              "      <td>3</td>\n",
              "      <td>2</td>\n",
              "      <td>3</td>\n",
              "      <td>1</td>\n",
              "      <td>0.0</td>\n",
              "      <td>0.0</td>\n",
              "      <td>0.0</td>\n",
              "      <td>0.0</td>\n",
              "      <td>0.0</td>\n",
              "      <td>1.0</td>\n",
              "      <td>0.0</td>\n",
              "      <td>0.0</td>\n",
              "      <td>0.0</td>\n",
              "      <td>0.0</td>\n",
              "      <td>0.0</td>\n",
              "      <td>0.0</td>\n",
              "      <td>1.0</td>\n",
              "      <td>0.0</td>\n",
              "      <td>1.0</td>\n",
              "    </tr>\n",
              "  </tbody>\n",
              "</table>\n",
              "</div>"
            ],
            "text/plain": [
              "       Administrative  Administrative_Duration  ...  x2_False  x2_True\n",
              "4294                0                      0.0  ...       1.0      0.0\n",
              "11664               1                      0.0  ...       1.0      0.0\n",
              "2872                0                      0.0  ...       1.0      0.0\n",
              "7192                7                    204.1  ...       1.0      0.0\n",
              "640                 3                     86.0  ...       0.0      1.0\n",
              "\n",
              "[5 rows x 29 columns]"
            ]
          },
          "metadata": {
            "tags": []
          },
          "execution_count": 10
        }
      ]
    },
    {
      "cell_type": "markdown",
      "metadata": {
        "id": "w6_tj2A5LNWZ"
      },
      "source": [
        "# **K Means Clustering**"
      ]
    },
    {
      "cell_type": "code",
      "metadata": {
        "id": "dMJyeLsfG--j",
        "outputId": "6a77bdc0-2a39-4500-8e0c-afc4ae44e99c",
        "colab": {
          "base_uri": "https://localhost:8080/"
        }
      },
      "source": [
        "#n_clustersint, default=8\n",
        "#The number of clusters to form as well as the number of centroids to generate.\n",
        "kmeans = KMeans(n_clusters=8).fit(x_train)\n",
        "kmeans.labels_\n",
        "#kmeans.cluster_centers_"
      ],
      "execution_count": null,
      "outputs": [
        {
          "output_type": "execute_result",
          "data": {
            "text/plain": [
              "array([0, 6, 0, ..., 0, 0, 0], dtype=int32)"
            ]
          },
          "metadata": {
            "tags": []
          },
          "execution_count": 11
        }
      ]
    },
    {
      "cell_type": "code",
      "metadata": {
        "id": "2sd5T0uTRZA2",
        "outputId": "4d352eee-59e5-41c3-ea0f-8675358969ac",
        "colab": {
          "base_uri": "https://localhost:8080/"
        }
      },
      "source": [
        "print(silhouette_score(x_train, kmeans.labels_))"
      ],
      "execution_count": null,
      "outputs": [
        {
          "output_type": "stream",
          "text": [
            "0.5611898845411686\n"
          ],
          "name": "stdout"
        }
      ]
    },
    {
      "cell_type": "code",
      "metadata": {
        "id": "eNaeexOTg5ua",
        "outputId": "49a109e6-0703-499f-9f9a-b8ba805eb5f1",
        "colab": {
          "base_uri": "https://localhost:8080/"
        }
      },
      "source": [
        "#init{‘k-means++’, ‘random’, ndarray, callable}, default=’k-means++’\n",
        "#‘random’: choose n_clusters observations (rows) at random from data for the initial centroids.\n",
        "\n",
        "kmeans = KMeans(n_clusters=8, init='random').fit(x_train)\n",
        "kmeans.labels_\n",
        "#kmeans.cluster_centers_\n",
        "print(silhouette_score(x_train, kmeans.labels_))"
      ],
      "execution_count": null,
      "outputs": [
        {
          "output_type": "stream",
          "text": [
            "0.5301113397292162\n"
          ],
          "name": "stdout"
        }
      ]
    },
    {
      "cell_type": "code",
      "metadata": {
        "id": "ca9MWLGQh4sy",
        "outputId": "eeaae583-5922-4453-f245-aea5d46d111f",
        "colab": {
          "base_uri": "https://localhost:8080/"
        }
      },
      "source": [
        "#init{‘k-means++’, ‘random’, ndarray, callable}, default=’k-means++’\n",
        "#‘k-means++’ : selects initial cluster centers for k-mean clustering in a smart way to speed up convergence.\n",
        "\n",
        "kmeans = KMeans(n_clusters=8, init='k-means++').fit(x_train)\n",
        "kmeans.labels_\n",
        "#kmeans.cluster_centers_\n",
        "print(silhouette_score(x_train, kmeans.labels_))"
      ],
      "execution_count": null,
      "outputs": [
        {
          "output_type": "stream",
          "text": [
            "0.561111167482274\n"
          ],
          "name": "stdout"
        }
      ]
    },
    {
      "cell_type": "code",
      "metadata": {
        "id": "T1SmCqvlhbVz",
        "outputId": "96766624-f554-4c47-a391-dd87a99e21dc",
        "colab": {
          "base_uri": "https://localhost:8080/"
        }
      },
      "source": [
        "#n_initint, default=10\n",
        "#Number of time the k-means algorithm will be run with different centroid seeds. The final results will be the best output of n_init consecutive runs in terms of inertia.\n",
        "\n",
        "kmeans = KMeans(n_clusters=8, n_init=25).fit(x_train)\n",
        "kmeans.labels_\n",
        "#kmeans.cluster_centers_\n",
        "print(silhouette_score(x_train, kmeans.labels_))"
      ],
      "execution_count": null,
      "outputs": [
        {
          "output_type": "stream",
          "text": [
            "0.5613711969122338\n"
          ],
          "name": "stdout"
        }
      ]
    },
    {
      "cell_type": "code",
      "metadata": {
        "id": "LRuwgcnEiv1s",
        "outputId": "56a41e32-e958-43f4-bb55-7b1c68bdc2ba",
        "colab": {
          "base_uri": "https://localhost:8080/"
        }
      },
      "source": [
        "kmeans = KMeans(n_clusters=8, algorithm='elkan').fit(x_train)\n",
        "kmeans.labels_\n",
        "#kmeans.cluster_centers_\n",
        "print(silhouette_score(x_train, kmeans.labels_))"
      ],
      "execution_count": null,
      "outputs": [
        {
          "output_type": "stream",
          "text": [
            "0.5536759417460347\n"
          ],
          "name": "stdout"
        }
      ]
    },
    {
      "cell_type": "code",
      "metadata": {
        "id": "wxhHsIRzjJY2",
        "outputId": "fe5f1a49-a1bb-40b5-94d8-bc893e46c432",
        "colab": {
          "base_uri": "https://localhost:8080/"
        }
      },
      "source": [
        "kmeans = KMeans(n_clusters=8, random_state=50).fit(x_train)\n",
        "kmeans.labels_\n",
        "#kmeans.cluster_centers_\n",
        "print(silhouette_score(x_train, kmeans.labels_))"
      ],
      "execution_count": null,
      "outputs": [
        {
          "output_type": "stream",
          "text": [
            "0.5535713820666199\n"
          ],
          "name": "stdout"
        }
      ]
    },
    {
      "cell_type": "code",
      "metadata": {
        "id": "7pYiTyTajXHD",
        "outputId": "16d1c29c-1433-4cdc-f902-2ebbbad8e9c4",
        "colab": {
          "base_uri": "https://localhost:8080/"
        }
      },
      "source": [
        "kmeans = KMeans(n_clusters=5, random_state=50).fit(x_train)\n",
        "kmeans.labels_\n",
        "#kmeans.cluster_centers_\n",
        "print(silhouette_score(x_train, kmeans.labels_))"
      ],
      "execution_count": null,
      "outputs": [
        {
          "output_type": "stream",
          "text": [
            "0.6256421165873853\n"
          ],
          "name": "stdout"
        }
      ]
    },
    {
      "cell_type": "code",
      "metadata": {
        "id": "JyldRHyBjbNo",
        "outputId": "87ef2804-17ef-43d8-e4f5-7070f90ef55f",
        "colab": {
          "base_uri": "https://localhost:8080/"
        }
      },
      "source": [
        "kmeans = KMeans(n_clusters=4, random_state=50).fit(x_train)\n",
        "kmeans.labels_\n",
        "#kmeans.cluster_centers_\n",
        "print(silhouette_score(x_train, kmeans.labels_))"
      ],
      "execution_count": null,
      "outputs": [
        {
          "output_type": "stream",
          "text": [
            "0.6790926851323413\n"
          ],
          "name": "stdout"
        }
      ]
    },
    {
      "cell_type": "code",
      "metadata": {
        "id": "ZS17dTmuje0N",
        "outputId": "73f83cb8-8b87-41bc-a1ff-60f7d24e5cdb",
        "colab": {
          "base_uri": "https://localhost:8080/"
        }
      },
      "source": [
        "kmeans = KMeans(n_clusters=2, random_state=50).fit(x_train)\n",
        "kmeans.labels_\n",
        "#kmeans.cluster_centers_\n",
        "print(silhouette_score(x_train, kmeans.labels_))"
      ],
      "execution_count": null,
      "outputs": [
        {
          "output_type": "stream",
          "text": [
            "0.7825165715081446\n"
          ],
          "name": "stdout"
        }
      ]
    },
    {
      "cell_type": "code",
      "metadata": {
        "id": "MdmRFJjmjg-w",
        "outputId": "470155e3-59b2-4cd1-c382-be55afa20cc6",
        "colab": {
          "base_uri": "https://localhost:8080/"
        }
      },
      "source": [
        "kmeans = KMeans(n_clusters=5, random_state=50).fit(x_train)\n",
        "kmeans.labels_\n",
        "#kmeans.cluster_centers_\n",
        "print(silhouette_score(x_train, kmeans.labels_))"
      ],
      "execution_count": null,
      "outputs": [
        {
          "output_type": "stream",
          "text": [
            "0.6256421165873853\n"
          ],
          "name": "stdout"
        }
      ]
    },
    {
      "cell_type": "code",
      "metadata": {
        "id": "Pwg8ydACWZFu",
        "outputId": "3cd23c83-3d56-40a7-91c5-e134e3801910",
        "colab": {
          "base_uri": "https://localhost:8080/"
        }
      },
      "source": [
        "print(silhouette_score(x_train, kmeans.labels_))\n"
      ],
      "execution_count": null,
      "outputs": [
        {
          "output_type": "stream",
          "text": [
            "0.6256421165873853\n"
          ],
          "name": "stdout"
        }
      ]
    },
    {
      "cell_type": "code",
      "metadata": {
        "id": "t86_s3nAUNZB"
      },
      "source": [
        "#Add Cluster Number to each datapoint + save file\n",
        "df_kmeans=x_train\n",
        "kmeans_predict_train=kmeans.predict(x_train)\n",
        "\n",
        "df_kmeans['Cluster Number']=kmeans_predict_train\n",
        "\n",
        "\n",
        "export_csv = df_kmeans.to_csv(r'/gdrive/My Drive/Data Mining/Assignment 5/KmeansClusters_ECG_Train.csv')"
      ],
      "execution_count": null,
      "outputs": []
    },
    {
      "cell_type": "code",
      "metadata": {
        "id": "V3GBbXUvVu3u",
        "outputId": "a02ca5bf-7865-45e6-d83e-f24fc4593965",
        "colab": {
          "base_uri": "https://localhost:8080/"
        }
      },
      "source": [
        "print(df_kmeans.shape)\n"
      ],
      "execution_count": null,
      "outputs": [
        {
          "output_type": "stream",
          "text": [
            "(9864, 30)\n"
          ],
          "name": "stdout"
        }
      ]
    },
    {
      "cell_type": "code",
      "metadata": {
        "id": "Aaof62UiVv6y",
        "outputId": "3a150df3-18f7-4a88-8b0a-66a9ff923348",
        "colab": {
          "base_uri": "https://localhost:8080/",
          "height": 241
        }
      },
      "source": [
        "df_kmeans.head()\n",
        "#df_kmeans.dtypes"
      ],
      "execution_count": null,
      "outputs": [
        {
          "output_type": "execute_result",
          "data": {
            "text/html": [
              "<div>\n",
              "<style scoped>\n",
              "    .dataframe tbody tr th:only-of-type {\n",
              "        vertical-align: middle;\n",
              "    }\n",
              "\n",
              "    .dataframe tbody tr th {\n",
              "        vertical-align: top;\n",
              "    }\n",
              "\n",
              "    .dataframe thead th {\n",
              "        text-align: right;\n",
              "    }\n",
              "</style>\n",
              "<table border=\"1\" class=\"dataframe\">\n",
              "  <thead>\n",
              "    <tr style=\"text-align: right;\">\n",
              "      <th></th>\n",
              "      <th>Administrative</th>\n",
              "      <th>Administrative_Duration</th>\n",
              "      <th>Informational</th>\n",
              "      <th>Informational_Duration</th>\n",
              "      <th>ProductRelated</th>\n",
              "      <th>ProductRelated_Duration</th>\n",
              "      <th>BounceRates</th>\n",
              "      <th>ExitRates</th>\n",
              "      <th>PageValues</th>\n",
              "      <th>SpecialDay</th>\n",
              "      <th>OperatingSystems</th>\n",
              "      <th>Browser</th>\n",
              "      <th>Region</th>\n",
              "      <th>TrafficType</th>\n",
              "      <th>x0_Aug</th>\n",
              "      <th>x0_Dec</th>\n",
              "      <th>x0_Feb</th>\n",
              "      <th>x0_Jul</th>\n",
              "      <th>x0_June</th>\n",
              "      <th>x0_Mar</th>\n",
              "      <th>x0_May</th>\n",
              "      <th>x0_Nov</th>\n",
              "      <th>x0_Oct</th>\n",
              "      <th>x0_Sep</th>\n",
              "      <th>x1_New_Visitor</th>\n",
              "      <th>x1_Other</th>\n",
              "      <th>x1_Returning_Visitor</th>\n",
              "      <th>x2_False</th>\n",
              "      <th>x2_True</th>\n",
              "      <th>Cluster Number</th>\n",
              "    </tr>\n",
              "  </thead>\n",
              "  <tbody>\n",
              "    <tr>\n",
              "      <th>1785</th>\n",
              "      <td>0</td>\n",
              "      <td>0.0</td>\n",
              "      <td>0</td>\n",
              "      <td>0.0</td>\n",
              "      <td>7</td>\n",
              "      <td>95.000000</td>\n",
              "      <td>0.014286</td>\n",
              "      <td>0.061905</td>\n",
              "      <td>0.000000</td>\n",
              "      <td>0.0</td>\n",
              "      <td>2</td>\n",
              "      <td>6</td>\n",
              "      <td>1</td>\n",
              "      <td>1</td>\n",
              "      <td>0.0</td>\n",
              "      <td>0.0</td>\n",
              "      <td>0.0</td>\n",
              "      <td>0.0</td>\n",
              "      <td>0.0</td>\n",
              "      <td>1.0</td>\n",
              "      <td>0.0</td>\n",
              "      <td>0.0</td>\n",
              "      <td>0.0</td>\n",
              "      <td>0.0</td>\n",
              "      <td>0.0</td>\n",
              "      <td>0.0</td>\n",
              "      <td>1.0</td>\n",
              "      <td>1.0</td>\n",
              "      <td>0.0</td>\n",
              "      <td>4</td>\n",
              "    </tr>\n",
              "    <tr>\n",
              "      <th>10407</th>\n",
              "      <td>2</td>\n",
              "      <td>14.0</td>\n",
              "      <td>0</td>\n",
              "      <td>0.0</td>\n",
              "      <td>81</td>\n",
              "      <td>1441.910588</td>\n",
              "      <td>0.002469</td>\n",
              "      <td>0.013933</td>\n",
              "      <td>2.769599</td>\n",
              "      <td>0.0</td>\n",
              "      <td>2</td>\n",
              "      <td>2</td>\n",
              "      <td>3</td>\n",
              "      <td>2</td>\n",
              "      <td>0.0</td>\n",
              "      <td>0.0</td>\n",
              "      <td>0.0</td>\n",
              "      <td>0.0</td>\n",
              "      <td>0.0</td>\n",
              "      <td>0.0</td>\n",
              "      <td>0.0</td>\n",
              "      <td>1.0</td>\n",
              "      <td>0.0</td>\n",
              "      <td>0.0</td>\n",
              "      <td>0.0</td>\n",
              "      <td>0.0</td>\n",
              "      <td>1.0</td>\n",
              "      <td>1.0</td>\n",
              "      <td>0.0</td>\n",
              "      <td>0</td>\n",
              "    </tr>\n",
              "    <tr>\n",
              "      <th>286</th>\n",
              "      <td>0</td>\n",
              "      <td>0.0</td>\n",
              "      <td>0</td>\n",
              "      <td>0.0</td>\n",
              "      <td>1</td>\n",
              "      <td>0.000000</td>\n",
              "      <td>0.200000</td>\n",
              "      <td>0.200000</td>\n",
              "      <td>0.000000</td>\n",
              "      <td>0.0</td>\n",
              "      <td>2</td>\n",
              "      <td>2</td>\n",
              "      <td>1</td>\n",
              "      <td>1</td>\n",
              "      <td>0.0</td>\n",
              "      <td>0.0</td>\n",
              "      <td>0.0</td>\n",
              "      <td>0.0</td>\n",
              "      <td>0.0</td>\n",
              "      <td>1.0</td>\n",
              "      <td>0.0</td>\n",
              "      <td>0.0</td>\n",
              "      <td>0.0</td>\n",
              "      <td>0.0</td>\n",
              "      <td>0.0</td>\n",
              "      <td>0.0</td>\n",
              "      <td>1.0</td>\n",
              "      <td>1.0</td>\n",
              "      <td>0.0</td>\n",
              "      <td>4</td>\n",
              "    </tr>\n",
              "    <tr>\n",
              "      <th>6520</th>\n",
              "      <td>5</td>\n",
              "      <td>49.2</td>\n",
              "      <td>4</td>\n",
              "      <td>379.0</td>\n",
              "      <td>5</td>\n",
              "      <td>74.600000</td>\n",
              "      <td>0.000000</td>\n",
              "      <td>0.018182</td>\n",
              "      <td>8.326728</td>\n",
              "      <td>0.0</td>\n",
              "      <td>2</td>\n",
              "      <td>2</td>\n",
              "      <td>8</td>\n",
              "      <td>2</td>\n",
              "      <td>0.0</td>\n",
              "      <td>0.0</td>\n",
              "      <td>0.0</td>\n",
              "      <td>0.0</td>\n",
              "      <td>0.0</td>\n",
              "      <td>0.0</td>\n",
              "      <td>0.0</td>\n",
              "      <td>0.0</td>\n",
              "      <td>0.0</td>\n",
              "      <td>1.0</td>\n",
              "      <td>1.0</td>\n",
              "      <td>0.0</td>\n",
              "      <td>0.0</td>\n",
              "      <td>1.0</td>\n",
              "      <td>0.0</td>\n",
              "      <td>4</td>\n",
              "    </tr>\n",
              "    <tr>\n",
              "      <th>12251</th>\n",
              "      <td>0</td>\n",
              "      <td>0.0</td>\n",
              "      <td>1</td>\n",
              "      <td>5.0</td>\n",
              "      <td>9</td>\n",
              "      <td>279.000000</td>\n",
              "      <td>0.040000</td>\n",
              "      <td>0.041667</td>\n",
              "      <td>0.000000</td>\n",
              "      <td>0.0</td>\n",
              "      <td>3</td>\n",
              "      <td>2</td>\n",
              "      <td>7</td>\n",
              "      <td>8</td>\n",
              "      <td>0.0</td>\n",
              "      <td>0.0</td>\n",
              "      <td>0.0</td>\n",
              "      <td>0.0</td>\n",
              "      <td>0.0</td>\n",
              "      <td>0.0</td>\n",
              "      <td>0.0</td>\n",
              "      <td>1.0</td>\n",
              "      <td>0.0</td>\n",
              "      <td>0.0</td>\n",
              "      <td>1.0</td>\n",
              "      <td>0.0</td>\n",
              "      <td>0.0</td>\n",
              "      <td>0.0</td>\n",
              "      <td>1.0</td>\n",
              "      <td>4</td>\n",
              "    </tr>\n",
              "  </tbody>\n",
              "</table>\n",
              "</div>"
            ],
            "text/plain": [
              "       Administrative  Administrative_Duration  ...  x2_True  Cluster Number\n",
              "1785                0                      0.0  ...      0.0               4\n",
              "10407               2                     14.0  ...      0.0               0\n",
              "286                 0                      0.0  ...      0.0               4\n",
              "6520                5                     49.2  ...      0.0               4\n",
              "12251               0                      0.0  ...      1.0               4\n",
              "\n",
              "[5 rows x 30 columns]"
            ]
          },
          "metadata": {
            "tags": []
          },
          "execution_count": 25
        }
      ]
    },
    {
      "cell_type": "code",
      "metadata": {
        "id": "dQvndXJ5QWCw",
        "outputId": "1c0a3eb4-7c35-46ce-804b-db2adc171a1a",
        "colab": {
          "base_uri": "https://localhost:8080/"
        }
      },
      "source": [
        "centroid = kmeans.cluster_centers_\n",
        "centroid"
      ],
      "execution_count": null,
      "outputs": [
        {
          "output_type": "execute_result",
          "data": {
            "text/plain": [
              "array([[3.36153199e+00, 1.26032781e+02, 8.18602694e-01, 5.93892911e+01,\n",
              "        4.79457071e+01, 1.91889866e+03, 8.44061045e-03, 2.38896360e-02,\n",
              "        8.75821377e+00, 5.23569024e-02, 2.12289562e+00, 2.33880471e+00,\n",
              "        3.20580808e+00, 3.88215488e+00, 4.08249158e-02, 1.40151515e-01,\n",
              "        4.20875421e-03, 3.32491582e-02, 2.23063973e-02, 1.29208754e-01,\n",
              "        2.55892256e-01, 2.98821549e-01, 4.08249158e-02, 3.45117845e-02,\n",
              "        8.54377104e-02, 3.78787879e-03, 9.10774411e-01, 7.68518519e-01,\n",
              "        2.31481481e-01],\n",
              "       [5.25585023e+00, 1.90085946e+02, 1.46801872e+00, 1.03750362e+02,\n",
              "        1.09115445e+02, 4.80110111e+03, 6.74144877e-03, 2.13399501e-02,\n",
              "        7.30387680e+00, 6.05304212e-02, 2.14508580e+00, 2.36037441e+00,\n",
              "        2.93135725e+00, 3.62870515e+00, 3.27613105e-02, 1.20124805e-01,\n",
              "        4.68018721e-03, 4.05616225e-02, 2.02808112e-02, 6.86427457e-02,\n",
              "        1.90327613e-01, 4.47737910e-01, 4.68018721e-02, 2.80811232e-02,\n",
              "        1.87207488e-02, 1.56006240e-03, 9.79719189e-01, 7.83151326e-01,\n",
              "        2.16848674e-01],\n",
              "       [7.58955224e+00, 2.74254972e+02, 2.47014925e+00, 2.15052591e+02,\n",
              "        2.45261194e+02, 1.09848832e+04, 6.06441469e-03, 2.02129811e-02,\n",
              "        4.29854580e+00, 1.49253731e-02, 2.12686567e+00, 2.38805970e+00,\n",
              "        2.56716418e+00, 3.40298507e+00, 2.98507463e-02, 8.20895522e-02,\n",
              "        2.94902991e-17, 5.22388060e-02, 5.97014925e-02, 2.98507463e-02,\n",
              "        1.04477612e-01, 5.52238806e-01, 2.23880597e-02, 6.71641791e-02,\n",
              "        5.55111512e-17, 7.46268657e-03, 9.92537313e-01, 7.38805970e-01,\n",
              "        2.61194030e-01],\n",
              "       [1.10000000e+01, 3.01400198e+03, 1.50000000e+01, 2.29990417e+03,\n",
              "        5.77000000e+02, 5.35723778e+04, 2.80784550e-03, 2.15663890e-02,\n",
              "        3.81914478e-01, 0.00000000e+00, 2.00000000e+00, 2.00000000e+00,\n",
              "        1.00000000e+00, 8.00000000e+00, 0.00000000e+00, 5.00000000e-01,\n",
              "        0.00000000e+00, 0.00000000e+00, 0.00000000e+00, 0.00000000e+00,\n",
              "        5.00000000e-01, 0.00000000e+00, 0.00000000e+00, 0.00000000e+00,\n",
              "        0.00000000e+00, 0.00000000e+00, 1.00000000e+00, 5.00000000e-01,\n",
              "        5.00000000e-01],\n",
              "       [1.53777380e+00, 5.00617682e+01, 2.56146625e-01, 1.41498052e+01,\n",
              "        1.41814931e+01, 3.86610792e+02, 2.80806652e-02, 5.17278644e-02,\n",
              "        4.68909389e+00, 6.51467740e-02, 2.11801520e+00, 2.36656236e+00,\n",
              "        3.17001937e+00, 4.19654299e+00, 3.45701088e-02, 1.43793771e-01,\n",
              "        1.86261362e-02, 3.60601997e-02, 2.39904634e-02, 1.73893608e-01,\n",
              "        2.85799434e-01, 2.00566235e-01, 4.61928178e-02, 3.65072269e-02,\n",
              "        1.69125317e-01, 9.53658173e-03, 8.21338102e-01, 7.73059157e-01,\n",
              "        2.26940843e-01]])"
            ]
          },
          "metadata": {
            "tags": []
          },
          "execution_count": 26
        }
      ]
    }
  ]
}